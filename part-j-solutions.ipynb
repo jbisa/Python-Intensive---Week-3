{
 "cells": [
  {
   "cell_type": "markdown",
   "metadata": {
    "collapsed": true
   },
   "source": [
    "## Part J. Chapter 10 Lists"
   ]
  },
  {
   "cell_type": "raw",
   "metadata": {},
   "source": [
    "1. Given letters = ['a','b','c'] and numbers [10,20], find the length of:\n",
    "\n",
    "a. letters:"
   ]
  },
  {
   "cell_type": "code",
   "execution_count": 3,
   "metadata": {},
   "outputs": [
    {
     "data": {
      "text/plain": [
       "3"
      ]
     },
     "execution_count": 3,
     "metadata": {},
     "output_type": "execute_result"
    }
   ],
   "source": [
    "letters = ['a','b','c']\n",
    "len(letters)"
   ]
  },
  {
   "cell_type": "raw",
   "metadata": {},
   "source": [
    "b. ['spam',2.0,5,numbers]"
   ]
  },
  {
   "cell_type": "code",
   "execution_count": 4,
   "metadata": {},
   "outputs": [
    {
     "data": {
      "text/plain": [
       "4"
      ]
     },
     "execution_count": 4,
     "metadata": {},
     "output_type": "execute_result"
    }
   ],
   "source": [
    "numbers = [10,20]\n",
    "len(['spam',2.0,5,numbers])"
   ]
  },
  {
   "cell_type": "raw",
   "metadata": {},
   "source": [
    "c. []"
   ]
  },
  {
   "cell_type": "code",
   "execution_count": 7,
   "metadata": {},
   "outputs": [
    {
     "data": {
      "text/plain": [
       "0"
      ]
     },
     "execution_count": 7,
     "metadata": {},
     "output_type": "execute_result"
    }
   ],
   "source": [
    "len([])"
   ]
  },
  {
   "cell_type": "markdown",
   "metadata": {},
   "source": [
    "d. ['spam',1,letters,[1,2,3]]"
   ]
  },
  {
   "cell_type": "code",
   "execution_count": 8,
   "metadata": {},
   "outputs": [
    {
     "data": {
      "text/plain": [
       "4"
      ]
     },
     "execution_count": 8,
     "metadata": {},
     "output_type": "execute_result"
    }
   ],
   "source": [
    "len(['spam',1,letters,[1,2,3]])"
   ]
  },
  {
   "cell_type": "raw",
   "metadata": {},
   "source": [
    "e. range(len(letters))"
   ]
  },
  {
   "cell_type": "code",
   "execution_count": 11,
   "metadata": {},
   "outputs": [
    {
     "data": {
      "text/plain": [
       "3"
      ]
     },
     "execution_count": 11,
     "metadata": {},
     "output_type": "execute_result"
    }
   ],
   "source": [
    "len(range(len(letters)))"
   ]
  },
  {
   "cell_type": "raw",
   "metadata": {},
   "source": [
    "f. letters + numbers"
   ]
  },
  {
   "cell_type": "code",
   "execution_count": 12,
   "metadata": {},
   "outputs": [
    {
     "data": {
      "text/plain": [
       "5"
      ]
     },
     "execution_count": 12,
     "metadata": {},
     "output_type": "execute_result"
    }
   ],
   "source": [
    "len(letters + numbers)"
   ]
  },
  {
   "cell_type": "raw",
   "metadata": {},
   "source": [
    "g. letters[:2]"
   ]
  },
  {
   "cell_type": "code",
   "execution_count": 13,
   "metadata": {},
   "outputs": [
    {
     "data": {
      "text/plain": [
       "2"
      ]
     },
     "execution_count": 13,
     "metadata": {},
     "output_type": "execute_result"
    }
   ],
   "source": [
    "len(letters[:2])"
   ]
  },
  {
   "cell_type": "raw",
   "metadata": {},
   "source": [
    "2. What are the uses of the Python methods map, reduce, filter, pop, and alias?\n",
    "\n",
    "Map - processing pattern that loops through a sequence and performs an operation on each element\n",
    "Reduce - combines a sequence of elements into a single value.\n",
    "Filter - used to select only some elements in a list based on a certain criteria\n",
    "Pop - deletes an element from a list based on an index, and returns the value that was deleted. If no index is provided, the last element in the list is deleted and returned.\n",
    "Alias - can be used to refer to an object with multiple references, with multiple names"
   ]
  },
  {
   "cell_type": "raw",
   "metadata": {},
   "source": [
    "3. Given lows = [4, 2] and highs = [10, 9], manipulate the lists to print the ff:\n",
    "a. 6"
   ]
  },
  {
   "cell_type": "code",
   "execution_count": 28,
   "metadata": {},
   "outputs": [
    {
     "name": "stdout",
     "output_type": "stream",
     "text": [
      "6\n"
     ]
    }
   ],
   "source": [
    "lows = [4,2]\n",
    "highs = [10,9]\n",
    "lows_and_highs = lows + highs\n",
    "avg = int(sum(lows_and_highs)/4)\n",
    "print(avg)"
   ]
  },
  {
   "cell_type": "raw",
   "metadata": {},
   "source": [
    "b. 11"
   ]
  },
  {
   "cell_type": "code",
   "execution_count": 33,
   "metadata": {},
   "outputs": [
    {
     "name": "stdout",
     "output_type": "stream",
     "text": [
      "11\n"
     ]
    }
   ],
   "source": [
    "print(lows[-1] + highs[-1])"
   ]
  },
  {
   "cell_type": "raw",
   "metadata": {},
   "source": [
    "c. 25"
   ]
  },
  {
   "cell_type": "code",
   "execution_count": 32,
   "metadata": {},
   "outputs": [
    {
     "name": "stdout",
     "output_type": "stream",
     "text": [
      "25\n"
     ]
    }
   ],
   "source": [
    "sum_of_lows_and_highs = sum(lows_and_highs)\n",
    "print(sum_of_lows_and_highs)"
   ]
  },
  {
   "cell_type": "raw",
   "metadata": {},
   "source": [
    "d. [20,18]"
   ]
  },
  {
   "cell_type": "code",
   "execution_count": 42,
   "metadata": {},
   "outputs": [
    {
     "name": "stdout",
     "output_type": "stream",
     "text": [
      "[20, 18]\n"
     ]
    }
   ],
   "source": [
    "def multiply_highs_with_lowest_low(highs, lows):\n",
    "    new_list = []\n",
    "    for high in highs:\n",
    "        new_list.append(high*lows[-1])\n",
    "    print(new_list)\n",
    "    \n",
    "multiply_highs_with_lowest_low(highs, lows)"
   ]
  },
  {
   "cell_type": "raw",
   "metadata": {},
   "source": [
    "e. [10,9,4,2]"
   ]
  },
  {
   "cell_type": "code",
   "execution_count": 69,
   "metadata": {},
   "outputs": [
    {
     "name": "stdout",
     "output_type": "stream",
     "text": [
      "['a', ['t', 's'], 'b', 'c', 'd', 'e', 'f']\n"
     ]
    }
   ],
   "source": [
    "# experimenting with lists...\n",
    "a_list = ['a','b','c','d','e','f']\n",
    "a_list[1:1] = [['t', 's']]\n",
    "print(a_list)"
   ]
  },
  {
   "cell_type": "code",
   "execution_count": 79,
   "metadata": {},
   "outputs": [
    {
     "name": "stdout",
     "output_type": "stream",
     "text": [
      "[10, 9, 4, 2]\n"
     ]
    }
   ],
   "source": [
    "sorted_high_to_low = sorted(lows_and_highs, key=int, reverse=True)\n",
    "print(sorted_high_to_low)"
   ]
  },
  {
   "cell_type": "markdown",
   "metadata": {},
   "source": [
    "f. [2,4,9,10]"
   ]
  },
  {
   "cell_type": "code",
   "execution_count": 81,
   "metadata": {},
   "outputs": [
    {
     "name": "stdout",
     "output_type": "stream",
     "text": [
      "[2, 4, 9, 10]\n"
     ]
    }
   ],
   "source": [
    "sorted_low_to_high = sorted(lows_and_highs)\n",
    "print(sorted_low_to_high)"
   ]
  },
  {
   "cell_type": "raw",
   "metadata": {},
   "source": [
    "g. '24910'"
   ]
  }
 ],
 "metadata": {
  "kernelspec": {
   "display_name": "Python 3",
   "language": "python",
   "name": "python3"
  },
  "language_info": {
   "codemirror_mode": {
    "name": "ipython",
    "version": 3
   },
   "file_extension": ".py",
   "mimetype": "text/x-python",
   "name": "python",
   "nbconvert_exporter": "python",
   "pygments_lexer": "ipython3",
   "version": "3.6.1"
  }
 },
 "nbformat": 4,
 "nbformat_minor": 2
}
